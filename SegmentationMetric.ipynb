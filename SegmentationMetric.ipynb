{
 "cells": [
  {
   "cell_type": "markdown",
   "metadata": {},
   "source": [
    "# Segmentation evaluation after border thinning"
   ]
  },
  {
   "cell_type": "markdown",
   "metadata": {},
   "source": [
    "Import libraries"
   ]
  },
  {
   "cell_type": "code",
   "execution_count": 1,
   "metadata": {},
   "outputs": [],
   "source": [
    "import imagej\n",
    "from skimage.io import imread_collection, imsave\n",
    "import numpy as np\n",
    "import os"
   ]
  },
  {
   "cell_type": "markdown",
   "metadata": {},
   "source": [
    "Load FiJi plugins from local directory"
   ]
  },
  {
   "cell_type": "code",
   "execution_count": 2,
   "metadata": {},
   "outputs": [
    {
     "name": "stdout",
     "output_type": "stream",
     "text": [
      "Added 387 JARs to the Java classpath.\n"
     ]
    }
   ],
   "source": [
    "ij = imagej.init('Fiji.app')"
   ]
  },
  {
   "cell_type": "markdown",
   "metadata": {},
   "source": [
    "Read Groundtruth and Results image files from directories"
   ]
  },
  {
   "cell_type": "code",
   "execution_count": 3,
   "metadata": {},
   "outputs": [
    {
     "name": "stdout",
     "output_type": "stream",
     "text": [
      "Groundtruth data shape is:  (32, 512, 512)\n",
      "Results data shape is:  (32, 512, 512)\n"
     ]
    }
   ],
   "source": [
    "Ground_directory = './Evaluation/Groundtruth/*.png'\n",
    "Ground_data = np.asarray(list(imread_collection(Ground_directory)),dtype='float32')\n",
    "if (np.max(Ground_data)!=1):\n",
    "    Ground_data=Ground_data/255.0\n",
    "imsave('Ground.tif',Ground_data)\n",
    "print('Groundtruth data shape is: ', np.shape(Ground_data))\n",
    "\n",
    "Results_directory = './Evaluation/Results/*.png'\n",
    "Results_data = np.asarray(list(imread_collection(Results_directory)), dtype='float32')\n",
    "if (np.max(Results_data)!=1):\n",
    "    Results_data=Results_data/255.0\n",
    "imsave('Result.tif',Results_data)\n",
    "print('Results data shape is: ', np.shape(Results_data))"
   ]
  },
  {
   "cell_type": "markdown",
   "metadata": {},
   "source": [
    "Create ImageJ macros to run in BeanShell mode"
   ]
  },
  {
   "cell_type": "code",
   "execution_count": 4,
   "metadata": {},
   "outputs": [],
   "source": [
    "Language_extension = \"BeanShell\"\n",
    "\n",
    "macroVRand = \"\"\"\n",
    "import trainableSegmentation.metrics.*;\n",
    "#@output String VRand\n",
    "import ij.IJ;\n",
    "originalLabels=IJ.openImage(\"C:/Users/akhadankish/Ground.tif\");\n",
    "proposedLabels=IJ.openImage(\"C:/Users/akhadankish/Result.tif\");\n",
    "metric = new RandError( originalLabels, proposedLabels );\n",
    "maxThres = 1.0;\n",
    "maxScore = metric.getMaximalVRandAfterThinning( 0.0, maxThres, 0.1, true );  \n",
    "VRand = maxScore;\n",
    "\"\"\"\n",
    "\n",
    "macroVInfo = \"\"\"\n",
    "import trainableSegmentation.metrics.*;\n",
    "#@output String VInfo\n",
    "import ij.IJ;\n",
    "originalLabels=IJ.openImage(\"C:/Users/akhadankish/Ground.tif\");\n",
    "proposedLabels=IJ.openImage(\"C:/Users/akhadankish/Result.tif\");\n",
    "metric = new VariationOfInformation( originalLabels, proposedLabels );\n",
    "maxThres =1.0;\n",
    "maxScore = metric.getMaximalVInfoAfterThinning( 0.0, maxThres, 0.1 );  \n",
    "VInfo = maxScore;\n",
    "\"\"\""
   ]
  },
  {
   "cell_type": "markdown",
   "metadata": {},
   "source": [
    "Calculate Foreground-restricted Rand Scoring (${V^{Rand}}_{thinned}$) and Foreground-restricted Information Theoretic Scoring (${V^{Info}}_{thinned}$) after border thinning"
   ]
  },
  {
   "cell_type": "code",
   "execution_count": 5,
   "metadata": {},
   "outputs": [
    {
     "name": "stdout",
     "output_type": "stream",
     "text": [
      "Maximum foreground-restricted Rand score after thinning:  0.9555808412810025\n",
      "Maximum foreground-restricted information theoretic score after thinning:  0.9803861491590002\n"
     ]
    }
   ],
   "source": [
    "VRand = float(ij.py.run_script(Language_extension, macroVRand).getOutput('VRand'))\n",
    "VInfo = float(ij.py.run_script(Language_extension, macroVInfo).getOutput('VInfo'))\n",
    "print('Maximum foreground-restricted Rand score after thinning: ', VRand)\n",
    "print('Maximum foreground-restricted information theoretic score after thinning: ', VInfo)"
   ]
  },
  {
   "cell_type": "code",
   "execution_count": null,
   "metadata": {},
   "outputs": [],
   "source": []
  }
 ],
 "metadata": {
  "kernelspec": {
   "display_name": "Python 3",
   "language": "python",
   "name": "python3"
  },
  "language_info": {
   "codemirror_mode": {
    "name": "ipython",
    "version": 3
   },
   "file_extension": ".py",
   "mimetype": "text/x-python",
   "name": "python",
   "nbconvert_exporter": "python",
   "pygments_lexer": "ipython3",
   "version": "3.7.4"
  }
 },
 "nbformat": 4,
 "nbformat_minor": 2
}
